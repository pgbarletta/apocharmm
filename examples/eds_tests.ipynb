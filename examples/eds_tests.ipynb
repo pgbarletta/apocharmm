{
 "cells": [
  {
   "cell_type": "code",
   "execution_count": 1,
   "id": "d20f9ef7-dad1-4ed9-a95c-716e583b1e5e",
   "metadata": {},
   "outputs": [
    {
     "name": "stdout",
     "output_type": "stream",
     "text": [
      "Linux g86.lobos.nih.gov 3.10.0-957.el7.x86_64 #1 SMP Thu Nov 8 23:39:32 UTC 2018 x86_64 x86_64 x86_64 GNU/Linux\n"
     ]
    }
   ],
   "source": [
    "!uname -a"
   ]
  },
  {
   "cell_type": "code",
   "execution_count": 2,
   "id": "ebb6e25d-df5e-413b-9056-a99e76f3ad2f",
   "metadata": {},
   "outputs": [
    {
     "name": "stdout",
     "output_type": "stream",
     "text": [
      "/u/samar/.conda/envs/py39/lib/python3.9/site-packages/apocharmm-0.0.1-py3.9-linux-x86_64.egg/apocharmm.cpython-39-x86_64-linux-gnu.so\n"
     ]
    }
   ],
   "source": [
    "import apocharmm as ch\n",
    "print(ch.__file__)"
   ]
  },
  {
   "cell_type": "code",
   "execution_count": 3,
   "id": "428fa672-5f38-426b-ad99-c3ed250ce416",
   "metadata": {},
   "outputs": [
    {
     "name": "stdout",
     "output_type": "stream",
     "text": [
      "-rwxr-xr-x 1 samar cbs 3126880 Sep 17 16:55 /u/samar/.conda/envs/py39/lib/python3.9/site-packages/apocharmm-0.0.1-py3.9-linux-x86_64.egg/apocharmm.cpython-39-x86_64-linux-gnu.so\n"
     ]
    }
   ],
   "source": [
    "! ls -l /u/samar/.conda/envs/py39/lib/python3.9/site-packages/apocharmm-0.0.1-py3.9-linux-x86_64.egg/apocharmm.cpython-39-x86_64-linux-gnu.so"
   ]
  },
  {
   "cell_type": "code",
   "execution_count": 14,
   "id": "ab12cc0d-079c-4101-9bce-69e0398cc8f6",
   "metadata": {},
   "outputs": [],
   "source": [
    "psf2 = ch.CharmmPSF(\"../test/data/l0.pert.25k.psf\")\n",
    "psf1 = ch.CharmmPSF(\"../test/data/l1.pert.25k.psf\")\n",
    "\n",
    "prm = ch.CharmmParameters([\"../test/data/toppar_water_ions.str\", \"../test/data/par_all36_cgenff.prm\"])\n",
    "\n",
    "fm1 = ch.ForceManager(psf2, prm)\n",
    "fm2 = ch.ForceManager(psf1, prm)"
   ]
  },
  {
   "cell_type": "code",
   "execution_count": 15,
   "id": "4d683151-9755-40fd-9f4b-611cd631e178",
   "metadata": {},
   "outputs": [],
   "source": [
    "fmEDS = ch.EDSForceManager()\n",
    "fmEDS.addForceManager(fm1)\n",
    "fmEDS.addForceManager(fm2)\n",
    "\n",
    "s=0.3\n",
    "eOff1 = -82481.3 \n",
    "eOff2 = -74366.5\n",
    "fmEDS.setSValue(s)\n",
    "fmEDS.setEnergyOffsets([eOff1, eOff2])"
   ]
  },
  {
   "cell_type": "code",
   "execution_count": 16,
   "id": "a73a7260-7008-4e1a-9e82-d3841f392626",
   "metadata": {},
   "outputs": [],
   "source": [
    "boxLength = 62.79503\n",
    "fmEDS.setBoxDimensions([boxLength, boxLength, boxLength])\n",
    "fmEDS.setFFTGrid(64, 64, 64)\n",
    "fmEDS.setKappa(0.34)\n",
    "fmEDS.setPmeSplineOrder(4)\n",
    "fmEDS.setCutoff(10.0)\n",
    "fmEDS.setCtonnb(8.0)\n",
    "fmEDS.setCtofnb(9.0)\n",
    "\n",
    "fmEDS.initialize()"
   ]
  },
  {
   "cell_type": "code",
   "execution_count": 17,
   "id": "f3c29565-408d-4987-b67c-b20e9e289cda",
   "metadata": {},
   "outputs": [],
   "source": [
    "ctx = ch.CharmmContext(fmEDS)\n",
    "#ctx = ch.CharmmContext(fm)\n",
    "crd = ch.CharmmCrd(\"../test/data/nvt_equil.25k.cor\")\n",
    "ctx.setCoordinates(crd)"
   ]
  },
  {
   "cell_type": "code",
   "execution_count": 18,
   "id": "7d72f04c-4ab5-4c1f-bc19-a367c8021f9a",
   "metadata": {},
   "outputs": [
    {
     "name": "stdout",
     "output_type": "stream",
     "text": [
      "Velocities assigned at temperature 300\n",
      "dof : 75279\n",
      "calculated temp from ke : 298.605\n",
      "ForceManagerComposite constructed\n",
      "Energy : -81038.9\n"
     ]
    },
    {
     "data": {
      "text/plain": [
       "-inf"
      ]
     },
     "execution_count": 18,
     "metadata": {},
     "output_type": "execute_result"
    },
    {
     "name": "stdout",
     "output_type": "stream",
     "text": [
      "Energy : -81038.9\n",
      "Reference Hamiltonian : -inf\n",
      "25152\n"
     ]
    }
   ],
   "source": [
    "ctx.calculateForces(False, True, True)"
   ]
  },
  {
   "cell_type": "code",
   "execution_count": 19,
   "id": "b7204394-47fa-4535-80b9-5fdfcf3de5e6",
   "metadata": {},
   "outputs": [],
   "source": [
    "ctx.assignVelocitiesAtTemperature(300)"
   ]
  },
  {
   "cell_type": "code",
   "execution_count": 20,
   "id": "11a0f125-5927-4763-b060-a969fb311386",
   "metadata": {},
   "outputs": [],
   "source": [
    "ctx1 = ch.CharmmContext(fm1)"
   ]
  },
  {
   "cell_type": "code",
   "execution_count": 21,
   "id": "ad5b4a27-b2a7-49ea-923e-5841d93cb0f9",
   "metadata": {},
   "outputs": [],
   "source": [
    "ctx1.setCoordinates(crd)"
   ]
  },
  {
   "cell_type": "code",
   "execution_count": 22,
   "id": "fdc85a15-e2f3-4eda-94a1-ce062c120848",
   "metadata": {},
   "outputs": [
    {
     "data": {
      "text/plain": [
       "-81038.8515625"
      ]
     },
     "execution_count": 22,
     "metadata": {},
     "output_type": "execute_result"
    }
   ],
   "source": [
    "ctx1.calculatePotentialEnergy(True, True)"
   ]
  },
  {
   "cell_type": "code",
   "execution_count": 23,
   "id": "2ab11305-2658-45ad-b685-ea7584f976a0",
   "metadata": {},
   "outputs": [
    {
     "data": {
      "text/plain": [
       "-81041.671875"
      ]
     },
     "execution_count": 23,
     "metadata": {},
     "output_type": "execute_result"
    }
   ],
   "source": [
    "ctx2 = ch.CharmmContext(fm2)\n",
    "ctx2.setCoordinates(crd)\n",
    "ctx2.calculatePotentialEnergy(True, True)"
   ]
  },
  {
   "cell_type": "code",
   "execution_count": null,
   "id": "e839c343-a5af-4020-ba4a-7056d9d9654a",
   "metadata": {},
   "outputs": [],
   "source": []
  },
  {
   "cell_type": "code",
   "execution_count": null,
   "id": "b65c430e-06fb-4f8e-8535-fda350586364",
   "metadata": {},
   "outputs": [],
   "source": []
  }
 ],
 "metadata": {
  "kernelspec": {
   "display_name": "Python 3 (ipykernel)",
   "language": "python",
   "name": "python3"
  },
  "language_info": {
   "codemirror_mode": {
    "name": "ipython",
    "version": 3
   },
   "file_extension": ".py",
   "mimetype": "text/x-python",
   "name": "python",
   "nbconvert_exporter": "python",
   "pygments_lexer": "ipython3",
   "version": "3.9.7"
  }
 },
 "nbformat": 4,
 "nbformat_minor": 5
}
