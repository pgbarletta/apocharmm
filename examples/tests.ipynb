{
 "cells": [
  {
   "cell_type": "code",
   "execution_count": 1,
   "id": "aba6b49d",
   "metadata": {},
   "outputs": [
    {
     "name": "stdout",
     "output_type": "stream",
     "text": [
      "Linux m6.lobos.nih.gov 3.10.0-1160.80.1.el7.x86_64 #1 SMP Tue Nov 8 15:48:59 UTC 2022 x86_64 x86_64 x86_64 GNU/Linux\n"
     ]
    }
   ],
   "source": [
    "!uname -a"
   ]
  },
  {
   "cell_type": "code",
   "execution_count": 2,
   "id": "935bab13",
   "metadata": {},
   "outputs": [
    {
     "ename": "ImportError",
     "evalue": "libchcudadynlib.so: cannot open shared object file: No such file or directory",
     "output_type": "error",
     "traceback": [
      "\u001b[0;31m---------------------------------------------------------------------------\u001b[0m",
      "\u001b[0;31mImportError\u001b[0m                               Traceback (most recent call last)",
      "Cell \u001b[0;32mIn [2], line 1\u001b[0m\n\u001b[0;32m----> 1\u001b[0m \u001b[38;5;28;01mimport\u001b[39;00m \u001b[38;5;21;01mapocharmm\u001b[39;00m \u001b[38;5;28;01mas\u001b[39;00m \u001b[38;5;21;01mch\u001b[39;00m\n",
      "\u001b[0;31mImportError\u001b[0m: libchcudadynlib.so: cannot open shared object file: No such file or directory"
     ]
    }
   ],
   "source": [
    "import apocharmm as ch"
   ]
  },
  {
   "cell_type": "code",
   "execution_count": 3,
   "id": "5213cef4",
   "metadata": {},
   "outputs": [],
   "source": [
    "prm = ch.CharmmParameters([\"../test/data/par_all36_prot.prm\", \"../test/data/par_all36_lipid.prm\", \"../test/data/toppar_water_ions.str\"])\n",
    "psf = ch.CharmmPSF(\"../test/data/walp.psf\")\n",
    "crd = ch.CharmmCrd(\"../test/data/walp.crd\")"
   ]
  },
  {
   "cell_type": "code",
   "execution_count": 4,
   "id": "d219c50b",
   "metadata": {},
   "outputs": [],
   "source": [
    "fm = ch.ForceManager(psf, prm)\n",
    "fm.setBoxDimensions([53.4630707, 53.4630707, 80.4928487])\n",
    "fm.setFFTGrid(48, 48, 48)\n",
    "fm.setKappa(0.34)\n",
    "fm.setCutoff(9.0)\n",
    "fm.setCtonnb(7.0)\n",
    "fm.setCtofnb(8.0)\n",
    "fm.initialize()"
   ]
  },
  {
   "cell_type": "code",
   "execution_count": 5,
   "id": "0fc13407",
   "metadata": {},
   "outputs": [],
   "source": [
    "ctx = ch.CharmmContext(fm)\n",
    "ctx.setCoordinates(crd)\n",
    "ctx.assignVelocitiesAtTemperature(300)"
   ]
  },
  {
   "cell_type": "code",
   "execution_count": 6,
   "id": "b4f44d1a",
   "metadata": {},
   "outputs": [],
   "source": [
    "integrator = ch.VelocityVerletIntegrator(0.001)\n",
    "integrator.setSimulationContext(ctx)\n",
    "\n",
    "subscriber = ch.DcdSubscriber(\"out/vv_walp.dcd\", ctx)\n",
    "ctx.subscribe(subscriber)\n",
    "#stateSub = ch.StateSubscriber(\"vv_walp.txt\", ctx)\n",
    "#ctx.subscribe(stateSub)\n",
    "\n",
    "#subscriber = ch.NetCDFSubscriber(\"vv_walp.nc\", ctx)\n",
    "#ctx.subscribe(subscriber)\n",
    "integrator.setReportSteps(10000)\n",
    "\n",
    "#integrator.propagate(1000000)"
   ]
  },
  {
   "cell_type": "code",
   "execution_count": 7,
   "id": "33f76ac3",
   "metadata": {},
   "outputs": [
    {
     "data": {
      "text/plain": [
       "230072.7042578221"
      ]
     },
     "execution_count": 7,
     "metadata": {},
     "output_type": "execute_result"
    }
   ],
   "source": [
    "ctx.getVolume()"
   ]
  },
  {
   "cell_type": "code",
   "execution_count": 8,
   "id": "d8bc82dc",
   "metadata": {},
   "outputs": [
    {
     "data": {
      "text/plain": [
       "230072.70369791257"
      ]
     },
     "execution_count": 8,
     "metadata": {},
     "output_type": "execute_result"
    }
   ],
   "source": [
    "53.4630707 * 53.4630707 * 80.4928487"
   ]
  },
  {
   "cell_type": "code",
   "execution_count": 9,
   "id": "26aff7a0",
   "metadata": {},
   "outputs": [
    {
     "data": {
      "text/plain": [
       "'/u/samar/.conda/envs/py39/lib/python3.9/site-packages/apocharmm-0.0.1-py3.9-linux-x86_64.egg/apocharmm.cpython-39-x86_64-linux-gnu.so'"
      ]
     },
     "execution_count": 9,
     "metadata": {},
     "output_type": "execute_result"
    }
   ],
   "source": [
    "ch.__file__"
   ]
  },
  {
   "cell_type": "code",
   "execution_count": 10,
   "id": "775573f9",
   "metadata": {},
   "outputs": [
    {
     "data": {
      "text/plain": [
       "1.0"
      ]
     },
     "execution_count": 10,
     "metadata": {},
     "output_type": "execute_result"
    }
   ],
   "source": [
    "ctx.calculatePressure()"
   ]
  },
  {
   "cell_type": "code",
   "execution_count": 11,
   "id": "826e4608-4a8d-4400-87c6-c69f35cf8fdf",
   "metadata": {},
   "outputs": [],
   "source": [
    "integrator.propagate(2000)"
   ]
  },
  {
   "cell_type": "code",
   "execution_count": null,
   "id": "871fec1b-b19a-4f8f-97c9-d4b2d0d177ed",
   "metadata": {},
   "outputs": [],
   "source": []
  },
  {
   "cell_type": "markdown",
   "id": "90a46d3d-ef4c-42ea-a905-d08a2d0139d3",
   "metadata": {},
   "source": [
    "# Zack's systems"
   ]
  },
  {
   "cell_type": "code",
   "execution_count": 12,
   "id": "11c3eb93-286e-4756-9986-bea849540fbe",
   "metadata": {},
   "outputs": [],
   "source": [
    "import apocharmm as ch\n",
    "psf = ch.CharmmPSF(\"/u/zjarin/for_samar/fullsystem.psf\")\n",
    "prm = ch.CharmmParameters([\"../test/data/par_all36_prot.prm\", \"../test/data/par_all36_lipid.prm\", \"../test/data/toppar_water_ions.str\"])"
   ]
  },
  {
   "cell_type": "code",
   "execution_count": 13,
   "id": "8fcc6840-ea6b-4d7d-852d-1b28845ce81f",
   "metadata": {},
   "outputs": [],
   "source": [
    "fm = ch.ForceManager(psf, prm)"
   ]
  },
  {
   "cell_type": "code",
   "execution_count": 14,
   "id": "6f6beea9-423a-4293-91ed-ad66d7259e22",
   "metadata": {},
   "outputs": [],
   "source": [
    "#crd = ch.CharmmCrd(\"/u/zjarin/for_samar/edited_fullsystem.crd\")\n",
    "pdb = ch.PDB(\"/u/zjarin/for_samar/dyn500.pdb\")"
   ]
  },
  {
   "cell_type": "code",
   "execution_count": 22,
   "id": "cf795fc0-9ec5-4537-a06c-1e04b68f2c48",
   "metadata": {},
   "outputs": [],
   "source": [
    "fm.setBoxDimensions([147.247,147.247,119.502])\n",
    "fm.setFFTGrid(148, 148, 148)\n",
    "fm.setKappa(0.34)\n",
    "fm.setCutoff(12.0-3)\n",
    "fm.setCtonnb(10.0-3)\n",
    "fm.setCtofnb(11.0-3)\n",
    "fm.initialize()"
   ]
  },
  {
   "cell_type": "code",
   "execution_count": 23,
   "id": "6d296db0-5746-4dd6-815f-47bbae6b7c7f",
   "metadata": {},
   "outputs": [],
   "source": [
    "ctx = ch.CharmmContext(fm)\n",
    "#ctx.setCoordinates(crd)\n",
    "ctx.setCoordinates(pdb)\n",
    "ctx.assignVelocitiesAtTemperature(300)"
   ]
  },
  {
   "cell_type": "code",
   "execution_count": 24,
   "id": "e2602ef7-bad5-4fcb-8346-dc573fe6b1f1",
   "metadata": {},
   "outputs": [
    {
     "data": {
      "text/plain": [
       "-287199.1875"
      ]
     },
     "execution_count": 24,
     "metadata": {},
     "output_type": "execute_result"
    }
   ],
   "source": [
    "ctx.calculatePotentialEnergy(True, True)"
   ]
  },
  {
   "cell_type": "code",
   "execution_count": 25,
   "id": "25aaf730-b99f-4722-8827-882935143153",
   "metadata": {},
   "outputs": [],
   "source": [
    "integrator = ch.VelocityVerletIntegrator(0.001)\n",
    "integrator.setSimulationContext(ctx)\n"
   ]
  },
  {
   "cell_type": "code",
   "execution_count": 26,
   "id": "39e48cd1-5f68-4ee3-821d-40a5246c6da8",
   "metadata": {},
   "outputs": [],
   "source": [
    "subscriber = ch.DcdSubscriber(\"out/vv_zack.dcd\", ctx)\n",
    "ctx.subscribe(subscriber)\n",
    "#stateSub = ch.StateSubscriber(\"vv_walp.txt\", ctx)\n",
    "#ctx.subscribe(stateSub)\n",
    "\n",
    "#subscriber = ch.NetCDFSubscriber(\"vv_walp.nc\", ctx)\n",
    "#ctx.subscribe(subscriber)\n",
    "integrator.setReportSteps(10000)"
   ]
  },
  {
   "cell_type": "code",
   "execution_count": 20,
   "id": "941feeca-00c7-45b0-bf5c-c3c5fe25c946",
   "metadata": {},
   "outputs": [],
   "source": [
    "integrator.propagate(2000)"
   ]
  },
  {
   "cell_type": "code",
   "execution_count": 27,
   "id": "858ce8a0-4ee7-4f21-a692-5ac912d534d9",
   "metadata": {},
   "outputs": [
    {
     "name": "stdout",
     "output_type": "stream",
     "text": [
      "44.1 s ± 38.2 ms per loop (mean ± std. dev. of 7 runs, 1 loop each)\n"
     ]
    }
   ],
   "source": [
    "%timeit -n 1 integrator.propagate(10000)"
   ]
  },
  {
   "cell_type": "code",
   "execution_count": 21,
   "id": "3737a8dc-8eb5-4dfb-92c7-d770b58d4483",
   "metadata": {},
   "outputs": [
    {
     "data": {
      "text/plain": [
       "267322"
      ]
     },
     "execution_count": 21,
     "metadata": {},
     "output_type": "execute_result"
    }
   ],
   "source": [
    "pdb.getNumAtoms()"
   ]
  },
  {
   "cell_type": "markdown",
   "id": "d32cc18b-fff6-4e1c-9a6b-335c676e5d7e",
   "metadata": {},
   "source": [
    "# Setting up a bilayer simulation"
   ]
  },
  {
   "cell_type": "code",
   "execution_count": 2,
   "id": "db1b4ed2-17fd-434a-9b5b-17faa1ecef91",
   "metadata": {},
   "outputs": [],
   "source": [
    "from charmm import apocharmm as ch"
   ]
  },
  {
   "cell_type": "code",
   "execution_count": 3,
   "id": "8afb6d08-b79f-46ce-aa46-f7c06386e85b",
   "metadata": {},
   "outputs": [],
   "source": [
    "prm = ch.CharmmParameters([\"../test/data/par_all36_prot.prm\", \"../test/data/par_all36_lipid.prm\", \n",
    "                           \"../test/data/toppar_all36_lipid_cholesterol.str\",\"../test/data/toppar_water_ions.str\"])\n",
    "psf = ch.CharmmPSF(\"../test/data/fp.psf\")\n",
    "crd = ch.CharmmCrd(\"../test/data/min_p21.crd\")"
   ]
  },
  {
   "cell_type": "code",
   "execution_count": 4,
   "id": "4aca32c0-9922-4069-8250-45eb0c72a75e",
   "metadata": {},
   "outputs": [],
   "source": [
    "fm = ch.ForceManager(psf, prm)\n",
    "fm.setBoxDimensions([64.52, 64.52, 102.02])\n",
    "fm.setFFTGrid(72, 72, 108)\n",
    "fm.setKappa(0.34)\n",
    "fm.setCutoff(12.5)\n",
    "fm.setCtonnb(9.0)\n",
    "fm.setCtofnb(11.0)\n",
    "fm.setPeriodicBoundaryCondition(ch.P21)"
   ]
  },
  {
   "cell_type": "code",
   "execution_count": 6,
   "id": "ff7c8ab4-29fd-4249-953d-8ca949965734",
   "metadata": {},
   "outputs": [],
   "source": [
    "ctx = ch.CharmmContext(fm)\n",
    "ctx.setCoordinates(crd)\n",
    "ctx.assignVelocitiesAtTemperature(298)"
   ]
  },
  {
   "cell_type": "code",
   "execution_count": 13,
   "id": "25361772-5c76-4a0f-84d9-629b0b5123c8",
   "metadata": {},
   "outputs": [],
   "source": [
    "integrator = ch.LangevinThermostatIntegrator(0.001)\n",
    "integrator.setFriction(5.0)\n",
    "integrator.setBathTemperature(298.17)\n",
    "\n",
    "integrator.setSimulationContext(ctx)"
   ]
  },
  {
   "cell_type": "code",
   "execution_count": 14,
   "id": "62134f3d-d906-4ed5-9b81-28bef3e4cbf5",
   "metadata": {},
   "outputs": [],
   "source": [
    "subscriber = ch.DcdSubscriber(\"out/p21_bilayer_nvt.dcd\", 1000,  ctx)\n",
    "integrator.subscribe(subscriber)"
   ]
  },
  {
   "cell_type": "code",
   "execution_count": 11,
   "id": "e5fd488d-2172-482e-89c3-5dc475b30622",
   "metadata": {},
   "outputs": [],
   "source": [
    "#numSteps = 100000000\n",
    "#integrator.propagate(numSteps)"
   ]
  },
  {
   "cell_type": "code",
   "execution_count": null,
   "id": "8a1fc9b8-b30e-45cc-82b9-a798a9a0209e",
   "metadata": {},
   "outputs": [],
   "source": []
  },
  {
   "cell_type": "code",
   "execution_count": null,
   "id": "afd777f1-ca79-4a73-aebf-5cfb33e8acbf",
   "metadata": {},
   "outputs": [],
   "source": []
  }
 ],
 "metadata": {
  "kernelspec": {
   "display_name": "Python 3 (ipykernel)",
   "language": "python",
   "name": "python3"
  },
  "language_info": {
   "codemirror_mode": {
    "name": "ipython",
    "version": 3
   },
   "file_extension": ".py",
   "mimetype": "text/x-python",
   "name": "python",
   "nbconvert_exporter": "python",
   "pygments_lexer": "ipython3",
   "version": "3.9.13"
  }
 },
 "nbformat": 4,
 "nbformat_minor": 5
}
