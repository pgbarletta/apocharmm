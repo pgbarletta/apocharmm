{
 "cells": [
  {
   "cell_type": "markdown",
   "id": "5b1fda07",
   "metadata": {},
   "source": [
    "### Apocharmm tutorial - Basic waterbox simulation example ###"
   ]
  },
  {
   "cell_type": "markdown",
   "id": "c54c28c1",
   "metadata": {},
   "source": [
    "Start by importing the `apocharmm` package"
   ]
  },
  {
   "cell_type": "code",
   "execution_count": 18,
   "id": "eab81e42-fb91-48d2-b0ec-f44656eb778a",
   "metadata": {
    "tags": []
   },
   "outputs": [],
   "source": [
    "import charmm.apocharmm as ac"
   ]
  },
  {
   "cell_type": "code",
   "execution_count": null,
   "id": "bf1ef0f3-fe03-45c9-9a37-08a422b2485b",
   "metadata": {
    "tags": []
   },
   "outputs": [
    {
     "ename": "",
     "evalue": "",
     "output_type": "error",
     "traceback": [
      "\u001b[1;31mRunning cells with 'Python 3.10.6 64-bit' requires ipykernel package.\n",
      "\u001b[1;31mRun the following command to install 'ipykernel' into the Python environment. \n",
      "\u001b[1;31mCommand: '/bin/python3 -m pip install ipykernel -U --user --force-reinstall'"
     ]
    }
   ],
   "source": [
    "# setup data location\n",
    "testDataPath = \"../../test/data/\""
   ]
  },
  {
   "cell_type": "markdown",
   "id": "9d317337",
   "metadata": {},
   "source": [
    "Import the parameters anf the system's topology (prm and psf)"
   ]
  },
  {
   "cell_type": "code",
   "execution_count": 3,
   "id": "14373cff-cccf-47a2-a18a-a1eddfb2d36e",
   "metadata": {
    "tags": []
   },
   "outputs": [],
   "source": [
    "psf = ac.CharmmPSF(testDataPath + \"waterbox.psf\")\n",
    "prm = ac.CharmmParameters(testDataPath + \"toppar_water_ions.str\")"
   ]
  },
  {
   "cell_type": "markdown",
   "id": "0ab7bd2d",
   "metadata": {},
   "source": [
    "Set up the ForceManager that will drive the simulation."
   ]
  },
  {
   "cell_type": "code",
   "execution_count": 4,
   "id": "514515b1-fd17-48cb-979c-c6c9a8ab16ad",
   "metadata": {
    "tags": []
   },
   "outputs": [],
   "source": [
    "# Create the ForceManager object using the psf and prm \n",
    "fm = ac.ForceManager(psf, prm)\n",
    "# Setup box size, FFT options, cutoffs...\n",
    "fm.setBoxDimensions([50., 50., 50.])\n",
    "fm.setFFTGrid(48,48,48)\n",
    "fm.setCtonnb(9.0)\n",
    "fm.setCtofnb(10.0)\n",
    "fm.setCutoff(12.0)\n",
    "# Finally, initialize the ForceManager object !\n",
    "fm.initialize()"
   ]
  },
  {
   "cell_type": "markdown",
   "id": "ff9a0765",
   "metadata": {},
   "source": [
    "The simulation state will be handled by a CharmmContext object, created from the ForceManager."
   ]
  },
  {
   "cell_type": "code",
   "execution_count": 5,
   "id": "8f0063b0-d8d0-4729-8b9b-9dc6ce6f6874",
   "metadata": {
    "tags": []
   },
   "outputs": [],
   "source": [
    "ctx = ac.CharmmContext(fm)"
   ]
  },
  {
   "cell_type": "markdown",
   "id": "36c97df3",
   "metadata": {},
   "source": [
    "This CharmmContext handles the coordinates and velocities."
   ]
  },
  {
   "cell_type": "code",
   "execution_count": 6,
   "id": "0ff5c824-eb56-4f54-83ab-e48cfcaec277",
   "metadata": {
    "tags": []
   },
   "outputs": [],
   "source": [
    "crd = ac.CharmmCrd(testDataPath + \"waterbox.crd\")\n",
    "ctx.setCoordinates(crd)\n",
    "ctx.assignVelocitiesAtTemperature(300.0)"
   ]
  },
  {
   "cell_type": "markdown",
   "id": "376b7ec7",
   "metadata": {},
   "source": [
    "We start by a short minimization of our system."
   ]
  },
  {
   "cell_type": "code",
   "execution_count": 8,
   "id": "5df5ea04-26eb-45e5-b9e1-8d0b2f370dad",
   "metadata": {
    "tags": []
   },
   "outputs": [],
   "source": [
    "minimizer = ac.Minimizer()\n",
    "minimizer.setSimulationContext(ctx)\n",
    "minimizer.minimize(1000)"
   ]
  },
  {
   "cell_type": "markdown",
   "id": "a79533c8",
   "metadata": {},
   "source": [
    "Here we will integrate using a Langevin thermostat. We create the Integrator object, then attach it to the CharmmContext. Finally, we propagate for 10 steps."
   ]
  },
  {
   "cell_type": "code",
   "execution_count": null,
   "id": "300e24a5-10e7-4bba-ae56-8a6791f6b828",
   "metadata": {
    "tags": []
   },
   "outputs": [
    {
     "ename": "",
     "evalue": "",
     "output_type": "error",
     "traceback": [
      "\u001b[1;31mRunning cells with 'Python 3.10.6 64-bit' requires ipykernel package.\n",
      "\u001b[1;31mRun the following command to install 'ipykernel' into the Python environment. \n",
      "\u001b[1;31mCommand: '/bin/python3 -m pip install ipykernel -U --user --force-reinstall'"
     ]
    }
   ],
   "source": [
    "integrator = ac.LangevinThermostatIntegrator(.001, 12, 300)\n",
    "integrator.setSimulationContext(ctx)\n",
    "integrator.propagate(10)"
   ]
  },
  {
   "cell_type": "markdown",
   "id": "ecfa0143",
   "metadata": {},
   "source": [
    "The simulation can be monitored using various Susbcribers, responsible for creating output files at a given frequency: \n",
    "* StateSubscribers (time, energy, temperature, pressure...); \n",
    "* RestartSubscriber: outputs a Charmm-like restart file\n",
    "* DcdSubscriber: saves the trajectory to a .dcd file\n",
    "* ...\n",
    "\n",
    "Once created, a Subscriber needs to be subscribed to an Integrator."
   ]
  },
  {
   "cell_type": "code",
   "execution_count": 9,
   "id": "70ae8210-c099-4237-8fa9-9c7e5e73d98f",
   "metadata": {
    "tags": []
   },
   "outputs": [],
   "source": [
    "stateSub = ac.StateSubscriber(\"waterboxState.txt\", 500)\n",
    "dcdSub = ac.DcdSubscriber(\"waterboxTraj.dcd\", 1000)\n",
    "restartSub = ac.RestartSubscriber(\"waterboxRestart.res\", 2000)\n",
    "\n",
    "integrator.subscribe(stateSub)\n",
    "integrator.subscriber([dcdSub, restartSub])"
   ]
  },
  {
   "cell_type": "code",
   "execution_count": 10,
   "id": "681d2360-32a0-4ae5-b427-55cb858f5e66",
   "metadata": {
    "tags": []
   },
   "outputs": [
    {
     "name": "stdout",
     "output_type": "stream",
     "text": [
      "Velocities assigned at temperature 300\n",
      "dof : 23496\n",
      "calculated temp from ke (host) : 446.686\n",
      "calculated temp from ke : 446.686\n",
      "[Minimization] Didn't reach minimization tolerance. Number of interations exhausted.\n",
      "Step = 0 0ms\n",
      "kinetic energy = 3539.73\n",
      "potential energy = -43624.8\n",
      "total energy = -40085\n",
      "[LangTherm]Temp : 151.624\n",
      "kinetic energy = 3734.91\n",
      "potential energy = -43820.1\n",
      "total energy = -40085.2\n",
      "[LangTherm]Temp : 159.984\n",
      "kinetic energy = 3714.84\n",
      "potential energy = -43800\n",
      "total energy = -40085.2\n",
      "[LangTherm]Temp : 159.124\n",
      "kinetic energy = 3709.07\n",
      "potential energy = -43794.3\n",
      "total energy = -40085.2\n",
      "[LangTherm]Temp : 158.877\n",
      "kinetic energy = 3767.76\n",
      "potential energy = -43852.9\n",
      "total energy = -40085.2\n",
      "[LangTherm]Temp : 161.391\n",
      "kinetic energy = 3883.13\n",
      "potential energy = -43968.5\n",
      "total energy = -40085.4\n",
      "[LangTherm]Temp : 166.333\n",
      "kinetic energy = 3915.74\n",
      "potential energy = -44001.1\n",
      "total energy = -40085.3\n",
      "[LangTherm]Temp : 167.73\n",
      "kinetic energy = 3912.12\n",
      "potential energy = -43997.5\n",
      "total energy = -40085.4\n",
      "[LangTherm]Temp : 167.575\n",
      "kinetic energy = 3982.06\n",
      "potential energy = -44067.5\n",
      "total energy = -40085.5\n",
      "[LangTherm]Temp : 170.57\n",
      "kinetic energy = 3958.23\n",
      "potential energy = -44043.6\n",
      "total energy = -40085.4\n"
     ]
    }
   ],
   "source": [
    "integrator.propagate(10000)"
   ]
  }
 ],
 "metadata": {
  "kernelspec": {
   "display_name": "Python 3.10.6 64-bit",
   "language": "python",
   "name": "python3"
  },
  "language_info": {
   "codemirror_mode": {
    "name": "ipython",
    "version": 3
   },
   "file_extension": ".py",
   "mimetype": "text/x-python",
   "name": "python",
   "nbconvert_exporter": "python",
   "pygments_lexer": "ipython3",
   "version": "3.10.6"
  },
  "vscode": {
   "interpreter": {
    "hash": "916dbcbb3f70747c44a77c7bcd40155683ae19c65e1c03b4aa3499c5328201f1"
   }
  }
 },
 "nbformat": 4,
 "nbformat_minor": 5
}
